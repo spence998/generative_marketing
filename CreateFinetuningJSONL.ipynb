{
 "cells": [
  {
   "cell_type": "code",
   "execution_count": null,
   "id": "4e67a497-2d62-48e5-8b0b-d6760bac36e8",
   "metadata": {
    "tags": []
   },
   "outputs": [],
   "source": [
    "import pandas as pd"
   ]
  },
  {
   "cell_type": "code",
   "execution_count": null,
   "id": "3ff7438e-9581-4024-bcce-45cb8b56c3d7",
   "metadata": {
    "tags": []
   },
   "outputs": [],
   "source": [
    "df = pd.read_csv(f\"gs://marketing_content_lbg/marketing_data_v5a.csv\", encoding=\"latin\")\n",
    "df.head()"
   ]
  },
  {
   "cell_type": "code",
   "execution_count": null,
   "id": "fde7b4c3-b0d5-4c2a-8c8e-f9a4dd089694",
   "metadata": {
    "tags": []
   },
   "outputs": [],
   "source": [
    "def change_size_label(s):\n",
    "    if s == \"XS\":\n",
    "        return  \"less than 10 words\"\n",
    "    if s == \"S\":\n",
    "        return \"between 10 and 20 words\"\n",
    "    if s == \"M\":\n",
    "        return \"between 20 and 40 words\"\n",
    "    if s == \"L\":\n",
    "        return \"between 40 and 60 words\"\n",
    "    if s == \"XL\":\n",
    "        return \"more than 60 words\""
   ]
  },
  {
   "cell_type": "code",
   "execution_count": null,
   "id": "98810b72-3677-4372-b450-34b9a908e883",
   "metadata": {
    "tags": []
   },
   "outputs": [],
   "source": [
    "df[\"size_label\"] = df[\"size_label\"].apply(change_size_label)"
   ]
  },
  {
   "cell_type": "code",
   "execution_count": null,
   "id": "ccbe8be3-1449-4f68-bcc8-3ab05353e749",
   "metadata": {
    "tags": []
   },
   "outputs": [],
   "source": [
    "df"
   ]
  },
  {
   "cell_type": "code",
   "execution_count": null,
   "id": "01f1f669-2d1b-493e-8785-666d2dea5e96",
   "metadata": {
    "tags": []
   },
   "outputs": [],
   "source": [
    "def headline_prompt(topic, aim):\n",
    "    return (\n",
    "        \"You work for a bank creating marketing content. \"\n",
    "        \"The tone of voice must be quietly confident, expert \"\n",
    "        \"and empathetic. Using the following features to guide you, \"\n",
    "        \"create a headline between 3 and 7 words for the business banking ad campaign. \"\n",
    "        f\"Topic: '{topic}', \"\n",
    "        f\"aim: '{aim}'\"\n",
    "        \"The ad campaign headline is:\"\n",
    "    )\n",
    "df[\"headline_prompt\"] = df.apply(\n",
    "    lambda x: headline_prompt(\n",
    "        x[\"ad\"],\n",
    "        x[\"prompt\"],\n",
    "    ), axis=1\n",
    ")\n",
    "\n",
    "def main_content_prompt(headline, size_label, topic, aim):\n",
    "    return (\n",
    "        \"You work for a bank creating marketing content. \"\n",
    "        \"The tone of voice must be quietly confident, expert \"\n",
    "        \"and empathetic. Using the following features to guide you, \"\n",
    "        \"create the main content for the business banking ad \"\n",
    "        f\"Headline: '{headline}', \"\n",
    "        f\"campaign {size_label}. \"\n",
    "        f\"Topic: '{topic}', \"\n",
    "        f\"aim: '{aim}'\"\n",
    "        f\"The ad campaign main content {size_label} is:\"\n",
    "    )\n",
    "df[\"main_content_prompt\"] = df.apply(\n",
    "    lambda x: main_content_prompt(\n",
    "        x[\"Headline\"],\n",
    "        x[\"size_label\"],\n",
    "        x[\"ad\"],\n",
    "        x[\"prompt\"],\n",
    "    ), axis=1\n",
    ")\n",
    "\n",
    "def cta_prompt(main_content):\n",
    "    return (\n",
    "        \"You work for a bank creating marketing content. \"\n",
    "        \"The tone of voice must be quietly confident, expert \"\n",
    "        \"and empathetic. Using the following ad content, \"\n",
    "        \"create a call to action. E.g. \"\n",
    "        \"CONTENT: 'You can make a payment to an existing payee in our app'\"\n",
    "        \"CALL TO ACTION: 'Download the app'\"\n",
    "        f\"CONTENT: {main_content}\"\n",
    "        \"CALL TO ACTION:\"\n",
    "    )\n",
    "df[\"cta_prompt\"] = df.apply(\n",
    "    lambda x: cta_prompt(\n",
    "        x[\"main_content_prompt\"]\n",
    "    ), axis=1\n",
    ")"
   ]
  },
  {
   "cell_type": "code",
   "execution_count": null,
   "id": "f04c43da-1f70-49e5-b02a-56f5ab0be30e",
   "metadata": {
    "tags": []
   },
   "outputs": [],
   "source": [
    "df.head(1)"
   ]
  },
  {
   "cell_type": "code",
   "execution_count": null,
   "id": "e77aec6b-531c-4069-9c76-321b13173ac2",
   "metadata": {
    "tags": []
   },
   "outputs": [],
   "source": [
    "df_ft = pd.DataFrame(\n",
    "    {\n",
    "        \"prompts\": pd.concat([\n",
    "            df[\"headline_prompt\"],\n",
    "            df[\"main_content_prompt\"],\n",
    "            df[\"cta_prompt\"],\n",
    "        ]),\n",
    "        \"content\": pd.concat([\n",
    "            df[\"Headline\"],\n",
    "            df[\"description\"],\n",
    "            df[\"CTA\"],\n",
    "        ]),\n",
    "    }\n",
    ")\n",
    "df_ft = df_ft[df_ft[\"content\"].notna()]"
   ]
  },
  {
   "cell_type": "code",
   "execution_count": null,
   "id": "274cb30f-cc34-48ac-b445-f6702e378d9e",
   "metadata": {
    "tags": []
   },
   "outputs": [],
   "source": [
    "for i in df_ft[\"prompts\"]:\n",
    "    print(i)\n",
    "    break"
   ]
  },
  {
   "cell_type": "code",
   "execution_count": null,
   "id": "7aaf5138-cd62-4e88-a822-d23de295fced",
   "metadata": {
    "tags": []
   },
   "outputs": [],
   "source": [
    "df_ft = df_ft.reset_index().drop(\"index\", axis=1)"
   ]
  },
  {
   "cell_type": "code",
   "execution_count": null,
   "id": "13bbb2f2-d4f3-48f5-b52b-f0596ee6904e",
   "metadata": {},
   "outputs": [],
   "source": [
    "df_ft.head()"
   ]
  },
  {
   "cell_type": "code",
   "execution_count": null,
   "id": "445da4e6-cdf1-4dc7-9c9e-a8d0954a9fec",
   "metadata": {
    "tags": []
   },
   "outputs": [],
   "source": [
    "df_ft_json = []\n",
    "for i, df_ in df_ft.iterrows():\n",
    "    df_ft_json.append({\n",
    "        \"input_text\": df_[\"prompts\"], \"output_text\": df_[\"content\"]\n",
    "    })\n",
    "\n",
    "\n",
    "with open(\"marketing_content.jsonl\",\"w\", encoding='utf-8') as jsonfile:\n",
    "    for item in df_ft_json:\n",
    "        jsonfile.write(json.dumps(item) + \"\\n\")"
   ]
  },
  {
   "cell_type": "code",
   "execution_count": null,
   "id": "acd3d76f-d3b6-4cf2-acc6-f7198f6a469a",
   "metadata": {
    "tags": []
   },
   "outputs": [],
   "source": [
    "pd.read_json(\"gs://marketing_content_lbg/marketing_content.jsonl\", lines=True, encoding=\"utf-8\")"
   ]
  }
 ],
 "metadata": {
  "environment": {
   "kernel": "python3",
   "name": "tf2-gpu.2-13.m116",
   "type": "gcloud",
   "uri": "gcr.io/deeplearning-platform-release/tf2-gpu.2-13:m116"
  },
  "kernelspec": {
   "display_name": "Python 3 (Local)",
   "language": "python",
   "name": "python3"
  },
  "language_info": {
   "codemirror_mode": {
    "name": "ipython",
    "version": 3
   },
   "file_extension": ".py",
   "mimetype": "text/x-python",
   "name": "python",
   "nbconvert_exporter": "python",
   "pygments_lexer": "ipython3",
   "version": "3.10.13"
  }
 },
 "nbformat": 4,
 "nbformat_minor": 5
}
